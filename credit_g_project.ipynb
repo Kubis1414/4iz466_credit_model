{
 "cells": [
  {
   "cell_type": "markdown",
   "id": "3c8526c7",
   "metadata": {},
   "source": [
    "# 4IZ565/4IZ566 – Projekt v Pythonu\n",
    "## Datová sada: German Credit (OpenML ID 31)\n",
    "\n",
    "- Zdroj: https://www.openml.org/d/31\n",
    "- Úloha: Binární klasifikace (cílová proměnná je nominální – dobrý/špatný úvěr)\n",
    "- Tento zápisník splňuje požadavky předmětu:\n",
    "  - Předzpracování pomocí pandas (min. dvě operace)\n",
    "  - Sestavení modelu se sklearn a porovnání alespoň 2 algoritmů\n",
    "  - Ladění hyperparametrů (GridSearchCV)\n",
    "  - Správný train/test split (bez úniku informací), ROC křivka pro binární úlohu\n",
    "  - Replikovatelnost: relativní cesty, pevné random_state, běh do ~5 minut"
   ]
  },
  {
   "cell_type": "markdown",
   "id": "0b388549",
   "metadata": {},
   "source": [
    "### Balíčky a zdůvodnění\n",
    "Používáme:\n",
    "- pandas, numpy: práce s tabulkami a numerické výpočty (standard)\n",
    "- scikit-learn: předzpracování, modely, GridSearchCV (standard)\n",
    "- matplotlib, seaborn: vizualizace (standard)\n",
    "- openml: pohodlné stažení dat (ARFF/metadata)\n",
    "- jupyter, nbconvert: práce se zápisníkem a export do HTML\n",
    "\n",
    "Pokud běžíte v čistém prostředí, nastavte v další buňce RUN_PIP = True pro instalaci chybějících balíčků."
   ]
  },
  {
   "cell_type": "code",
   "execution_count": 1,
   "id": "f269aa2f",
   "metadata": {
    "execution": {
     "iopub.execute_input": "2025-10-01T15:19:01.716425Z",
     "iopub.status.busy": "2025-10-01T15:19:01.716189Z",
     "iopub.status.idle": "2025-10-01T15:19:02.206818Z",
     "shell.execute_reply": "2025-10-01T15:19:02.206227Z"
    }
   },
   "outputs": [
    {
     "name": "stdout",
     "output_type": "stream",
     "text": [
      "Requirement already satisfied: pandas in ./.venv/lib/python3.11/site-packages (2.3.3)\n",
      "Requirement already satisfied: numpy in ./.venv/lib/python3.11/site-packages (2.3.3)\n",
      "Requirement already satisfied: scikit-learn in ./.venv/lib/python3.11/site-packages (1.7.2)\n",
      "Requirement already satisfied: matplotlib in ./.venv/lib/python3.11/site-packages (3.10.6)\n",
      "Requirement already satisfied: seaborn in ./.venv/lib/python3.11/site-packages (0.13.2)\n",
      "Requirement already satisfied: openml in ./.venv/lib/python3.11/site-packages (0.15.1)\n",
      "Requirement already satisfied: nbformat in ./.venv/lib/python3.11/site-packages (5.10.4)\n",
      "Requirement already satisfied: nbconvert in ./.venv/lib/python3.11/site-packages (7.16.6)\n",
      "Requirement already satisfied: imblearn in ./.venv/lib/python3.11/site-packages (0.0)\n",
      "Requirement already satisfied: python-dateutil>=2.8.2 in ./.venv/lib/python3.11/site-packages (from pandas) (2.9.0.post0)\n",
      "Requirement already satisfied: pytz>=2020.1 in ./.venv/lib/python3.11/site-packages (from pandas) (2025.2)\n",
      "Requirement already satisfied: tzdata>=2022.7 in ./.venv/lib/python3.11/site-packages (from pandas) (2025.2)\n",
      "Requirement already satisfied: scipy>=1.8.0 in ./.venv/lib/python3.11/site-packages (from scikit-learn) (1.16.2)\n",
      "Requirement already satisfied: joblib>=1.2.0 in ./.venv/lib/python3.11/site-packages (from scikit-learn) (1.5.2)\n",
      "Requirement already satisfied: threadpoolctl>=3.1.0 in ./.venv/lib/python3.11/site-packages (from scikit-learn) (3.6.0)\n",
      "Requirement already satisfied: contourpy>=1.0.1 in ./.venv/lib/python3.11/site-packages (from matplotlib) (1.3.3)\n",
      "Requirement already satisfied: cycler>=0.10 in ./.venv/lib/python3.11/site-packages (from matplotlib) (0.12.1)\n",
      "Requirement already satisfied: fonttools>=4.22.0 in ./.venv/lib/python3.11/site-packages (from matplotlib) (4.60.1)\n",
      "Requirement already satisfied: kiwisolver>=1.3.1 in ./.venv/lib/python3.11/site-packages (from matplotlib) (1.4.9)\n",
      "Requirement already satisfied: packaging>=20.0 in ./.venv/lib/python3.11/site-packages (from matplotlib) (25.0)\n",
      "Requirement already satisfied: pillow>=8 in ./.venv/lib/python3.11/site-packages (from matplotlib) (11.3.0)\n",
      "Requirement already satisfied: pyparsing>=2.3.1 in ./.venv/lib/python3.11/site-packages (from matplotlib) (3.2.5)\n",
      "Requirement already satisfied: liac-arff>=2.4.0 in ./.venv/lib/python3.11/site-packages (from openml) (2.5.0)\n",
      "Requirement already satisfied: xmltodict in ./.venv/lib/python3.11/site-packages (from openml) (1.0.2)\n",
      "Requirement already satisfied: requests in ./.venv/lib/python3.11/site-packages (from openml) (2.32.5)\n",
      "Requirement already satisfied: minio in ./.venv/lib/python3.11/site-packages (from openml) (7.2.18)\n",
      "Requirement already satisfied: pyarrow in ./.venv/lib/python3.11/site-packages (from openml) (21.0.0)\n",
      "Requirement already satisfied: tqdm in ./.venv/lib/python3.11/site-packages (from openml) (4.67.1)\n",
      "Requirement already satisfied: fastjsonschema>=2.15 in ./.venv/lib/python3.11/site-packages (from nbformat) (2.21.2)\n",
      "Requirement already satisfied: jsonschema>=2.6 in ./.venv/lib/python3.11/site-packages (from nbformat) (4.25.1)\n",
      "Requirement already satisfied: jupyter-core!=5.0.*,>=4.12 in ./.venv/lib/python3.11/site-packages (from nbformat) (5.8.1)\n",
      "Requirement already satisfied: traitlets>=5.1 in ./.venv/lib/python3.11/site-packages (from nbformat) (5.14.3)\n",
      "Requirement already satisfied: beautifulsoup4 in ./.venv/lib/python3.11/site-packages (from nbconvert) (4.14.2)\n",
      "Requirement already satisfied: bleach!=5.0.0 in ./.venv/lib/python3.11/site-packages (from bleach[css]!=5.0.0->nbconvert) (6.2.0)\n",
      "Requirement already satisfied: defusedxml in ./.venv/lib/python3.11/site-packages (from nbconvert) (0.7.1)\n",
      "Requirement already satisfied: jinja2>=3.0 in ./.venv/lib/python3.11/site-packages (from nbconvert) (3.1.6)\n",
      "Requirement already satisfied: jupyterlab-pygments in ./.venv/lib/python3.11/site-packages (from nbconvert) (0.3.0)\n",
      "Requirement already satisfied: markupsafe>=2.0 in ./.venv/lib/python3.11/site-packages (from nbconvert) (3.0.3)\n",
      "Requirement already satisfied: mistune<4,>=2.0.3 in ./.venv/lib/python3.11/site-packages (from nbconvert) (3.1.4)\n",
      "Requirement already satisfied: nbclient>=0.5.0 in ./.venv/lib/python3.11/site-packages (from nbconvert) (0.10.2)\n",
      "Requirement already satisfied: pandocfilters>=1.4.1 in ./.venv/lib/python3.11/site-packages (from nbconvert) (1.5.1)\n",
      "Requirement already satisfied: pygments>=2.4.1 in ./.venv/lib/python3.11/site-packages (from nbconvert) (2.19.2)\n",
      "Requirement already satisfied: imbalanced-learn in ./.venv/lib/python3.11/site-packages (from imblearn) (0.14.0)\n",
      "Requirement already satisfied: webencodings in ./.venv/lib/python3.11/site-packages (from bleach!=5.0.0->bleach[css]!=5.0.0->nbconvert) (0.5.1)\n",
      "Requirement already satisfied: tinycss2<1.5,>=1.1.0 in ./.venv/lib/python3.11/site-packages (from bleach[css]!=5.0.0->nbconvert) (1.4.0)\n",
      "Requirement already satisfied: attrs>=22.2.0 in ./.venv/lib/python3.11/site-packages (from jsonschema>=2.6->nbformat) (25.3.0)\n",
      "Requirement already satisfied: jsonschema-specifications>=2023.03.6 in ./.venv/lib/python3.11/site-packages (from jsonschema>=2.6->nbformat) (2025.9.1)\n",
      "Requirement already satisfied: referencing>=0.28.4 in ./.venv/lib/python3.11/site-packages (from jsonschema>=2.6->nbformat) (0.36.2)\n",
      "Requirement already satisfied: rpds-py>=0.7.1 in ./.venv/lib/python3.11/site-packages (from jsonschema>=2.6->nbformat) (0.27.1)\n",
      "Requirement already satisfied: platformdirs>=2.5 in ./.venv/lib/python3.11/site-packages (from jupyter-core!=5.0.*,>=4.12->nbformat) (4.4.0)\n",
      "Requirement already satisfied: jupyter-client>=6.1.12 in ./.venv/lib/python3.11/site-packages (from nbclient>=0.5.0->nbconvert) (8.6.3)\n",
      "Requirement already satisfied: pyzmq>=23.0 in ./.venv/lib/python3.11/site-packages (from jupyter-client>=6.1.12->nbclient>=0.5.0->nbconvert) (27.1.0)\n",
      "Requirement already satisfied: tornado>=6.2 in ./.venv/lib/python3.11/site-packages (from jupyter-client>=6.1.12->nbclient>=0.5.0->nbconvert) (6.5.2)\n",
      "Requirement already satisfied: six>=1.5 in ./.venv/lib/python3.11/site-packages (from python-dateutil>=2.8.2->pandas) (1.17.0)\n",
      "Requirement already satisfied: typing-extensions>=4.4.0 in ./.venv/lib/python3.11/site-packages (from referencing>=0.28.4->jsonschema>=2.6->nbformat) (4.15.0)\n",
      "Requirement already satisfied: soupsieve>1.2 in ./.venv/lib/python3.11/site-packages (from beautifulsoup4->nbconvert) (2.8)\n",
      "Requirement already satisfied: argon2-cffi in ./.venv/lib/python3.11/site-packages (from minio->openml) (25.1.0)\n",
      "Requirement already satisfied: certifi in ./.venv/lib/python3.11/site-packages (from minio->openml) (2025.8.3)\n",
      "Requirement already satisfied: pycryptodome in ./.venv/lib/python3.11/site-packages (from minio->openml) (3.23.0)\n",
      "Requirement already satisfied: urllib3 in ./.venv/lib/python3.11/site-packages (from minio->openml) (2.5.0)\n",
      "Requirement already satisfied: argon2-cffi-bindings in ./.venv/lib/python3.11/site-packages (from argon2-cffi->minio->openml) (25.1.0)\n",
      "Requirement already satisfied: cffi>=1.0.1 in ./.venv/lib/python3.11/site-packages (from argon2-cffi-bindings->argon2-cffi->minio->openml) (2.0.0)\n",
      "Requirement already satisfied: pycparser in ./.venv/lib/python3.11/site-packages (from cffi>=1.0.1->argon2-cffi-bindings->argon2-cffi->minio->openml) (2.23)\n",
      "Requirement already satisfied: charset_normalizer<4,>=2 in ./.venv/lib/python3.11/site-packages (from requests->openml) (3.4.3)\n",
      "Requirement already satisfied: idna<4,>=2.5 in ./.venv/lib/python3.11/site-packages (from requests->openml) (3.10)\n"
     ]
    },
    {
     "name": "stderr",
     "output_type": "stream",
     "text": [
      "\n",
      "\u001b[1m[\u001b[0m\u001b[34;49mnotice\u001b[0m\u001b[1;39;49m]\u001b[0m\u001b[39;49m A new release of pip is available: \u001b[0m\u001b[31;49m25.2\u001b[0m\u001b[39;49m -> \u001b[0m\u001b[32;49m25.3\u001b[0m\n",
      "\u001b[1m[\u001b[0m\u001b[34;49mnotice\u001b[0m\u001b[1;39;49m]\u001b[0m\u001b[39;49m To update, run: \u001b[0m\u001b[32;49mpip install --upgrade pip\u001b[0m\n"
     ]
    }
   ],
   "source": [
    "\n",
    "# Volitelná instalace balíčků (výchozí vypnuto kvůli rychlosti běhu)\n",
    "RUN_PIP = True\n",
    "if RUN_PIP:\n",
    "    import sys, subprocess\n",
    "    pkgs = [\n",
    "        \"pandas\", \"numpy\", \"scikit-learn\", \"matplotlib\", \"seaborn\",\n",
    "        \"openml\", \"nbformat\", \"nbconvert\", \"imblearn\"\n",
    "    ]\n",
    "    subprocess.check_call([sys.executable, \"-m\", \"pip\", \"install\", *pkgs])"
   ]
  },
  {
   "cell_type": "code",
   "execution_count": 2,
   "id": "0ccd9b76",
   "metadata": {
    "execution": {
     "iopub.execute_input": "2025-10-01T15:19:02.229967Z",
     "iopub.status.busy": "2025-10-01T15:19:02.228732Z",
     "iopub.status.idle": "2025-10-01T15:19:04.258171Z",
     "shell.execute_reply": "2025-10-01T15:19:04.257912Z"
    }
   },
   "outputs": [
    {
     "name": "stdout",
     "output_type": "stream",
     "text": [
      "Python: 3.11.11\n",
      "Platform: macOS-26.1-arm64-arm-64bit\n",
      "pandas: 2.3.3\n",
      "scikit-learn: 1.7.2\n",
      "matplotlib: 3.10.6\n",
      "seaborn: 0.13.2\n",
      "openml: 0.15.1\n"
     ]
    }
   ],
   "source": [
    "\n",
    "import sys, platform, os, warnings\n",
    "warnings.filterwarnings(\"ignore\")\n",
    "\n",
    "import numpy as np\n",
    "import pandas as pd\n",
    "import matplotlib.pyplot as plt\n",
    "import seaborn as sns\n",
    "import openml\n",
    "\n",
    "from IPython.display import display\n",
    "from scipy.sparse import csr_matrix\n",
    "from sklearn.model_selection import train_test_split, GridSearchCV, StratifiedKFold\n",
    "from sklearn.dummy import DummyClassifier\n",
    "from sklearn.compose import ColumnTransformer\n",
    "from sklearn.pipeline import Pipeline\n",
    "from imblearn.pipeline import Pipeline as ImbPipeline\n",
    "from imblearn.over_sampling import SMOTE\n",
    "from sklearn.preprocessing import OneHotEncoder, StandardScaler, LabelEncoder\n",
    "from sklearn.impute import SimpleImputer\n",
    "from sklearn.linear_model import LogisticRegression\n",
    "from sklearn.ensemble import RandomForestClassifier\n",
    "from sklearn.metrics import (\n",
    "    accuracy_score, roc_auc_score, RocCurveDisplay,\n",
    "    confusion_matrix, classification_report, ConfusionMatrixDisplay,\n",
    "    precision_recall_fscore_support\n",
    ")\n",
    "\n",
    "SEED = 42\n",
    "np.random.seed(SEED)\n",
    "\n",
    "print(\"Python:\", sys.version.split()[0])\n",
    "print(\"Platform:\", platform.platform())\n",
    "print(\"pandas:\", pd.__version__)\n",
    "import sklearn\n",
    "print(\"scikit-learn:\", sklearn.__version__)\n",
    "import matplotlib\n",
    "print(\"matplotlib:\", matplotlib.__version__)\n",
    "import seaborn\n",
    "print(\"seaborn:\", seaborn.__version__) #type: ignore\n",
    "print(\"openml:\", openml.__version__)"
   ]
  },
  {
   "cell_type": "markdown",
   "id": "b820871c",
   "metadata": {},
   "source": [
    "### Načtení dat z OpenML a uložení do CSV"
   ]
  },
  {
   "cell_type": "code",
   "execution_count": 3,
   "id": "8bb7c216",
   "metadata": {
    "execution": {
     "iopub.execute_input": "2025-10-01T15:19:04.259543Z",
     "iopub.status.busy": "2025-10-01T15:19:04.259395Z",
     "iopub.status.idle": "2025-10-01T15:19:04.414812Z",
     "shell.execute_reply": "2025-10-01T15:19:04.414571Z"
    }
   },
   "outputs": [
    {
     "name": "stdout",
     "output_type": "stream",
     "text": [
      "Saved dataset to data/credit-g_openml31.csv (shape=(1000, 21))\n"
     ]
    },
    {
     "data": {
      "application/vnd.microsoft.datawrangler.viewer.v0+json": {
       "columns": [
        {
         "name": "index",
         "rawType": "int64",
         "type": "integer"
        },
        {
         "name": "checking_status",
         "rawType": "category",
         "type": "unknown"
        },
        {
         "name": "duration",
         "rawType": "uint8",
         "type": "integer"
        },
        {
         "name": "credit_history",
         "rawType": "category",
         "type": "unknown"
        },
        {
         "name": "purpose",
         "rawType": "category",
         "type": "unknown"
        },
        {
         "name": "credit_amount",
         "rawType": "float64",
         "type": "float"
        },
        {
         "name": "savings_status",
         "rawType": "category",
         "type": "unknown"
        },
        {
         "name": "employment",
         "rawType": "category",
         "type": "unknown"
        },
        {
         "name": "installment_commitment",
         "rawType": "uint8",
         "type": "integer"
        },
        {
         "name": "personal_status",
         "rawType": "category",
         "type": "unknown"
        },
        {
         "name": "other_parties",
         "rawType": "category",
         "type": "unknown"
        },
        {
         "name": "residence_since",
         "rawType": "uint8",
         "type": "integer"
        },
        {
         "name": "property_magnitude",
         "rawType": "category",
         "type": "unknown"
        },
        {
         "name": "age",
         "rawType": "uint8",
         "type": "integer"
        },
        {
         "name": "other_payment_plans",
         "rawType": "category",
         "type": "unknown"
        },
        {
         "name": "housing",
         "rawType": "category",
         "type": "unknown"
        },
        {
         "name": "existing_credits",
         "rawType": "uint8",
         "type": "integer"
        },
        {
         "name": "job",
         "rawType": "category",
         "type": "unknown"
        },
        {
         "name": "num_dependents",
         "rawType": "uint8",
         "type": "integer"
        },
        {
         "name": "own_telephone",
         "rawType": "category",
         "type": "unknown"
        },
        {
         "name": "foreign_worker",
         "rawType": "category",
         "type": "unknown"
        },
        {
         "name": "class",
         "rawType": "category",
         "type": "unknown"
        }
       ],
       "ref": "c1068cc7-7aac-4270-99c8-a2eb39134a28",
       "rows": [
        [
         "0",
         "<0",
         "6",
         "critical/other existing credit",
         "radio/tv",
         "1169.0",
         "no known savings",
         ">=7",
         "4",
         "male single",
         "none",
         "4",
         "real estate",
         "67",
         "none",
         "own",
         "2",
         "skilled",
         "1",
         "yes",
         "yes",
         "good"
        ],
        [
         "1",
         "0<=X<200",
         "48",
         "existing paid",
         "radio/tv",
         "5951.0",
         "<100",
         "1<=X<4",
         "2",
         "female div/dep/mar",
         "none",
         "2",
         "real estate",
         "22",
         "none",
         "own",
         "1",
         "skilled",
         "1",
         "none",
         "yes",
         "bad"
        ],
        [
         "2",
         "no checking",
         "12",
         "critical/other existing credit",
         "education",
         "2096.0",
         "<100",
         "4<=X<7",
         "2",
         "male single",
         "none",
         "3",
         "real estate",
         "49",
         "none",
         "own",
         "1",
         "unskilled resident",
         "2",
         "none",
         "yes",
         "good"
        ],
        [
         "3",
         "<0",
         "42",
         "existing paid",
         "furniture/equipment",
         "7882.0",
         "<100",
         "4<=X<7",
         "2",
         "male single",
         "guarantor",
         "4",
         "life insurance",
         "45",
         "none",
         "for free",
         "1",
         "skilled",
         "2",
         "none",
         "yes",
         "good"
        ],
        [
         "4",
         "<0",
         "24",
         "delayed previously",
         "new car",
         "4870.0",
         "<100",
         "1<=X<4",
         "3",
         "male single",
         "none",
         "4",
         "no known property",
         "53",
         "none",
         "for free",
         "2",
         "skilled",
         "2",
         "none",
         "yes",
         "bad"
        ]
       ],
       "shape": {
        "columns": 21,
        "rows": 5
       }
      },
      "text/html": [
       "<div>\n",
       "<style scoped>\n",
       "    .dataframe tbody tr th:only-of-type {\n",
       "        vertical-align: middle;\n",
       "    }\n",
       "\n",
       "    .dataframe tbody tr th {\n",
       "        vertical-align: top;\n",
       "    }\n",
       "\n",
       "    .dataframe thead th {\n",
       "        text-align: right;\n",
       "    }\n",
       "</style>\n",
       "<table border=\"1\" class=\"dataframe\">\n",
       "  <thead>\n",
       "    <tr style=\"text-align: right;\">\n",
       "      <th></th>\n",
       "      <th>checking_status</th>\n",
       "      <th>duration</th>\n",
       "      <th>credit_history</th>\n",
       "      <th>purpose</th>\n",
       "      <th>credit_amount</th>\n",
       "      <th>savings_status</th>\n",
       "      <th>employment</th>\n",
       "      <th>installment_commitment</th>\n",
       "      <th>personal_status</th>\n",
       "      <th>other_parties</th>\n",
       "      <th>...</th>\n",
       "      <th>property_magnitude</th>\n",
       "      <th>age</th>\n",
       "      <th>other_payment_plans</th>\n",
       "      <th>housing</th>\n",
       "      <th>existing_credits</th>\n",
       "      <th>job</th>\n",
       "      <th>num_dependents</th>\n",
       "      <th>own_telephone</th>\n",
       "      <th>foreign_worker</th>\n",
       "      <th>class</th>\n",
       "    </tr>\n",
       "  </thead>\n",
       "  <tbody>\n",
       "    <tr>\n",
       "      <th>0</th>\n",
       "      <td>&lt;0</td>\n",
       "      <td>6</td>\n",
       "      <td>critical/other existing credit</td>\n",
       "      <td>radio/tv</td>\n",
       "      <td>1169.0</td>\n",
       "      <td>no known savings</td>\n",
       "      <td>&gt;=7</td>\n",
       "      <td>4</td>\n",
       "      <td>male single</td>\n",
       "      <td>none</td>\n",
       "      <td>...</td>\n",
       "      <td>real estate</td>\n",
       "      <td>67</td>\n",
       "      <td>none</td>\n",
       "      <td>own</td>\n",
       "      <td>2</td>\n",
       "      <td>skilled</td>\n",
       "      <td>1</td>\n",
       "      <td>yes</td>\n",
       "      <td>yes</td>\n",
       "      <td>good</td>\n",
       "    </tr>\n",
       "    <tr>\n",
       "      <th>1</th>\n",
       "      <td>0&lt;=X&lt;200</td>\n",
       "      <td>48</td>\n",
       "      <td>existing paid</td>\n",
       "      <td>radio/tv</td>\n",
       "      <td>5951.0</td>\n",
       "      <td>&lt;100</td>\n",
       "      <td>1&lt;=X&lt;4</td>\n",
       "      <td>2</td>\n",
       "      <td>female div/dep/mar</td>\n",
       "      <td>none</td>\n",
       "      <td>...</td>\n",
       "      <td>real estate</td>\n",
       "      <td>22</td>\n",
       "      <td>none</td>\n",
       "      <td>own</td>\n",
       "      <td>1</td>\n",
       "      <td>skilled</td>\n",
       "      <td>1</td>\n",
       "      <td>none</td>\n",
       "      <td>yes</td>\n",
       "      <td>bad</td>\n",
       "    </tr>\n",
       "    <tr>\n",
       "      <th>2</th>\n",
       "      <td>no checking</td>\n",
       "      <td>12</td>\n",
       "      <td>critical/other existing credit</td>\n",
       "      <td>education</td>\n",
       "      <td>2096.0</td>\n",
       "      <td>&lt;100</td>\n",
       "      <td>4&lt;=X&lt;7</td>\n",
       "      <td>2</td>\n",
       "      <td>male single</td>\n",
       "      <td>none</td>\n",
       "      <td>...</td>\n",
       "      <td>real estate</td>\n",
       "      <td>49</td>\n",
       "      <td>none</td>\n",
       "      <td>own</td>\n",
       "      <td>1</td>\n",
       "      <td>unskilled resident</td>\n",
       "      <td>2</td>\n",
       "      <td>none</td>\n",
       "      <td>yes</td>\n",
       "      <td>good</td>\n",
       "    </tr>\n",
       "    <tr>\n",
       "      <th>3</th>\n",
       "      <td>&lt;0</td>\n",
       "      <td>42</td>\n",
       "      <td>existing paid</td>\n",
       "      <td>furniture/equipment</td>\n",
       "      <td>7882.0</td>\n",
       "      <td>&lt;100</td>\n",
       "      <td>4&lt;=X&lt;7</td>\n",
       "      <td>2</td>\n",
       "      <td>male single</td>\n",
       "      <td>guarantor</td>\n",
       "      <td>...</td>\n",
       "      <td>life insurance</td>\n",
       "      <td>45</td>\n",
       "      <td>none</td>\n",
       "      <td>for free</td>\n",
       "      <td>1</td>\n",
       "      <td>skilled</td>\n",
       "      <td>2</td>\n",
       "      <td>none</td>\n",
       "      <td>yes</td>\n",
       "      <td>good</td>\n",
       "    </tr>\n",
       "    <tr>\n",
       "      <th>4</th>\n",
       "      <td>&lt;0</td>\n",
       "      <td>24</td>\n",
       "      <td>delayed previously</td>\n",
       "      <td>new car</td>\n",
       "      <td>4870.0</td>\n",
       "      <td>&lt;100</td>\n",
       "      <td>1&lt;=X&lt;4</td>\n",
       "      <td>3</td>\n",
       "      <td>male single</td>\n",
       "      <td>none</td>\n",
       "      <td>...</td>\n",
       "      <td>no known property</td>\n",
       "      <td>53</td>\n",
       "      <td>none</td>\n",
       "      <td>for free</td>\n",
       "      <td>2</td>\n",
       "      <td>skilled</td>\n",
       "      <td>2</td>\n",
       "      <td>none</td>\n",
       "      <td>yes</td>\n",
       "      <td>bad</td>\n",
       "    </tr>\n",
       "  </tbody>\n",
       "</table>\n",
       "<p>5 rows × 21 columns</p>\n",
       "</div>"
      ],
      "text/plain": [
       "  checking_status  duration                  credit_history  \\\n",
       "0              <0         6  critical/other existing credit   \n",
       "1        0<=X<200        48                   existing paid   \n",
       "2     no checking        12  critical/other existing credit   \n",
       "3              <0        42                   existing paid   \n",
       "4              <0        24              delayed previously   \n",
       "\n",
       "               purpose  credit_amount    savings_status employment  \\\n",
       "0             radio/tv         1169.0  no known savings        >=7   \n",
       "1             radio/tv         5951.0              <100     1<=X<4   \n",
       "2            education         2096.0              <100     4<=X<7   \n",
       "3  furniture/equipment         7882.0              <100     4<=X<7   \n",
       "4              new car         4870.0              <100     1<=X<4   \n",
       "\n",
       "   installment_commitment     personal_status other_parties  ...  \\\n",
       "0                       4         male single          none  ...   \n",
       "1                       2  female div/dep/mar          none  ...   \n",
       "2                       2         male single          none  ...   \n",
       "3                       2         male single     guarantor  ...   \n",
       "4                       3         male single          none  ...   \n",
       "\n",
       "   property_magnitude age  other_payment_plans   housing existing_credits  \\\n",
       "0         real estate  67                 none       own                2   \n",
       "1         real estate  22                 none       own                1   \n",
       "2         real estate  49                 none       own                1   \n",
       "3      life insurance  45                 none  for free                1   \n",
       "4   no known property  53                 none  for free                2   \n",
       "\n",
       "                  job num_dependents  own_telephone foreign_worker class  \n",
       "0             skilled              1            yes            yes  good  \n",
       "1             skilled              1           none            yes   bad  \n",
       "2  unskilled resident              2           none            yes  good  \n",
       "3             skilled              2           none            yes  good  \n",
       "4             skilled              2           none            yes   bad  \n",
       "\n",
       "[5 rows x 21 columns]"
      ]
     },
     "execution_count": 3,
     "metadata": {},
     "output_type": "execute_result"
    }
   ],
   "source": [
    "# Stažení dat (German Credit, OpenML ID 31)\n",
    "dataset_id = 31\n",
    "ds = openml.datasets.get_dataset(dataset_id, download_all_files=False)\n",
    "target_name = ds.default_target_attribute or \"class\"\n",
    "\n",
    "# Získání pandas DataFrame\n",
    "X, y, categorical_indicator, attribute_names = ds.get_data(\n",
    "    target=target_name, dataset_format=\"dataframe\"\n",
    ")\n",
    "\n",
    "# Ensure pandas types for static analysis and consistency\n",
    "\n",
    "\n",
    "if isinstance(X, csr_matrix):\n",
    "    X = X.toarray()\n",
    "if not isinstance(X, pd.DataFrame):\n",
    "    try:\n",
    "        X = pd.DataFrame(X, columns=[n for n in attribute_names if n != target_name])\n",
    "    except Exception:\n",
    "        X = pd.DataFrame(X)\n",
    "if not isinstance(y, (pd.Series, pd.DataFrame)):\n",
    "    y = pd.Series(y, name=target_name)\n",
    "\n",
    "# Sloučení a uložení pro reprodukovatelnost\n",
    "df = X.copy()\n",
    "df[target_name] = y\n",
    "csv_path = os.path.join(\"data\", \"credit-g_openml31.csv\")\n",
    "os.makedirs(os.path.dirname(csv_path), exist_ok=True)\n",
    "df.to_csv(csv_path, index=False)\n",
    "print(f\"Saved dataset to {csv_path} (shape={df.shape})\")\n",
    "df.head()"
   ]
  },
  {
   "cell_type": "markdown",
   "id": "f9e34580",
   "metadata": {},
   "source": [
    "## Průzkumná analýza dat (EDA)"
   ]
  },
  {
   "cell_type": "code",
   "execution_count": 4,
   "id": "aedda3f2",
   "metadata": {
    "execution": {
     "iopub.execute_input": "2025-10-01T15:19:04.416045Z",
     "iopub.status.busy": "2025-10-01T15:19:04.415971Z",
     "iopub.status.idle": "2025-10-01T15:19:04.421317Z",
     "shell.execute_reply": "2025-10-01T15:19:04.421028Z"
    }
   },
   "outputs": [
    {
     "name": "stdout",
     "output_type": "stream",
     "text": [
      "<class 'pandas.core.frame.DataFrame'>\n",
      "RangeIndex: 1000 entries, 0 to 999\n",
      "Data columns (total 21 columns):\n",
      " #   Column                  Non-Null Count  Dtype   \n",
      "---  ------                  --------------  -----   \n",
      " 0   checking_status         1000 non-null   category\n",
      " 1   duration                1000 non-null   uint8   \n",
      " 2   credit_history          1000 non-null   category\n",
      " 3   purpose                 1000 non-null   category\n",
      " 4   credit_amount           1000 non-null   float64 \n",
      " 5   savings_status          1000 non-null   category\n",
      " 6   employment              1000 non-null   category\n",
      " 7   installment_commitment  1000 non-null   uint8   \n",
      " 8   personal_status         1000 non-null   category\n",
      " 9   other_parties           1000 non-null   category\n",
      " 10  residence_since         1000 non-null   uint8   \n",
      " 11  property_magnitude      1000 non-null   category\n",
      " 12  age                     1000 non-null   uint8   \n",
      " 13  other_payment_plans     1000 non-null   category\n",
      " 14  housing                 1000 non-null   category\n",
      " 15  existing_credits        1000 non-null   uint8   \n",
      " 16  job                     1000 non-null   category\n",
      " 17  num_dependents          1000 non-null   uint8   \n",
      " 18  own_telephone           1000 non-null   category\n",
      " 19  foreign_worker          1000 non-null   category\n",
      " 20  class                   1000 non-null   category\n",
      "dtypes: category(14), float64(1), uint8(6)\n",
      "memory usage: 30.0 KB\n"
     ]
    }
   ],
   "source": [
    "\n",
    "df.info()"
   ]
  },
  {
   "cell_type": "code",
   "execution_count": 5,
   "id": "a333844a",
   "metadata": {
    "execution": {
     "iopub.execute_input": "2025-10-01T15:19:04.425286Z",
     "iopub.status.busy": "2025-10-01T15:19:04.425182Z",
     "iopub.status.idle": "2025-10-01T15:19:04.438358Z",
     "shell.execute_reply": "2025-10-01T15:19:04.438099Z"
    }
   },
   "outputs": [
    {
     "data": {
      "application/vnd.microsoft.datawrangler.viewer.v0+json": {
       "columns": [
        {
         "name": "index",
         "rawType": "object",
         "type": "string"
        },
        {
         "name": "count",
         "rawType": "object",
         "type": "unknown"
        },
        {
         "name": "unique",
         "rawType": "object",
         "type": "unknown"
        },
        {
         "name": "top",
         "rawType": "object",
         "type": "unknown"
        },
        {
         "name": "freq",
         "rawType": "object",
         "type": "unknown"
        },
        {
         "name": "mean",
         "rawType": "object",
         "type": "unknown"
        },
        {
         "name": "std",
         "rawType": "object",
         "type": "unknown"
        },
        {
         "name": "min",
         "rawType": "object",
         "type": "unknown"
        },
        {
         "name": "25%",
         "rawType": "object",
         "type": "unknown"
        },
        {
         "name": "50%",
         "rawType": "object",
         "type": "unknown"
        },
        {
         "name": "75%",
         "rawType": "object",
         "type": "unknown"
        },
        {
         "name": "max",
         "rawType": "object",
         "type": "unknown"
        }
       ],
       "ref": "26655796-e576-49f9-b9d7-f0cea9811558",
       "rows": [
        [
         "checking_status",
         "1000",
         "4",
         "no checking",
         "394",
         null,
         null,
         null,
         null,
         null,
         null,
         null
        ],
        [
         "duration",
         "1000.0",
         null,
         null,
         null,
         "20.903",
         "12.058814452756375",
         "4.0",
         "12.0",
         "18.0",
         "24.0",
         "72.0"
        ],
        [
         "credit_history",
         "1000",
         "5",
         "existing paid",
         "530",
         null,
         null,
         null,
         null,
         null,
         null,
         null
        ],
        [
         "purpose",
         "1000",
         "10",
         "radio/tv",
         "280",
         null,
         null,
         null,
         null,
         null,
         null,
         null
        ],
        [
         "credit_amount",
         "1000.0",
         null,
         null,
         null,
         "3271.258",
         "2822.7368759604406",
         "250.0",
         "1365.5",
         "2319.5",
         "3972.25",
         "18424.0"
        ],
        [
         "savings_status",
         "1000",
         "5",
         "<100",
         "603",
         null,
         null,
         null,
         null,
         null,
         null,
         null
        ],
        [
         "employment",
         "1000",
         "5",
         "1<=X<4",
         "339",
         null,
         null,
         null,
         null,
         null,
         null,
         null
        ],
        [
         "installment_commitment",
         "1000.0",
         null,
         null,
         null,
         "2.973",
         "1.1187146743126786",
         "1.0",
         "2.0",
         "3.0",
         "4.0",
         "4.0"
        ],
        [
         "personal_status",
         "1000",
         "4",
         "male single",
         "548",
         null,
         null,
         null,
         null,
         null,
         null,
         null
        ],
        [
         "other_parties",
         "1000",
         "3",
         "none",
         "907",
         null,
         null,
         null,
         null,
         null,
         null,
         null
        ],
        [
         "residence_since",
         "1000.0",
         null,
         null,
         null,
         "2.845",
         "1.1037178956568536",
         "1.0",
         "2.0",
         "3.0",
         "4.0",
         "4.0"
        ],
        [
         "property_magnitude",
         "1000",
         "4",
         "car",
         "332",
         null,
         null,
         null,
         null,
         null,
         null,
         null
        ],
        [
         "age",
         "1000.0",
         null,
         null,
         null,
         "35.546",
         "11.375468574317512",
         "19.0",
         "27.0",
         "33.0",
         "42.0",
         "75.0"
        ],
        [
         "other_payment_plans",
         "1000",
         "3",
         "none",
         "814",
         null,
         null,
         null,
         null,
         null,
         null,
         null
        ],
        [
         "housing",
         "1000",
         "3",
         "own",
         "713",
         null,
         null,
         null,
         null,
         null,
         null,
         null
        ],
        [
         "existing_credits",
         "1000.0",
         null,
         null,
         null,
         "1.407",
         "0.5776544682461002",
         "1.0",
         "1.0",
         "1.0",
         "2.0",
         "4.0"
        ],
        [
         "job",
         "1000",
         "4",
         "skilled",
         "630",
         null,
         null,
         null,
         null,
         null,
         null,
         null
        ],
        [
         "num_dependents",
         "1000.0",
         null,
         null,
         null,
         "1.155",
         "0.36208577175319395",
         "1.0",
         "1.0",
         "1.0",
         "1.0",
         "2.0"
        ],
        [
         "own_telephone",
         "1000",
         "2",
         "none",
         "596",
         null,
         null,
         null,
         null,
         null,
         null,
         null
        ],
        [
         "foreign_worker",
         "1000",
         "2",
         "yes",
         "963",
         null,
         null,
         null,
         null,
         null,
         null,
         null
        ]
       ],
       "shape": {
        "columns": 11,
        "rows": 20
       }
      },
      "text/html": [
       "<div>\n",
       "<style scoped>\n",
       "    .dataframe tbody tr th:only-of-type {\n",
       "        vertical-align: middle;\n",
       "    }\n",
       "\n",
       "    .dataframe tbody tr th {\n",
       "        vertical-align: top;\n",
       "    }\n",
       "\n",
       "    .dataframe thead th {\n",
       "        text-align: right;\n",
       "    }\n",
       "</style>\n",
       "<table border=\"1\" class=\"dataframe\">\n",
       "  <thead>\n",
       "    <tr style=\"text-align: right;\">\n",
       "      <th></th>\n",
       "      <th>count</th>\n",
       "      <th>unique</th>\n",
       "      <th>top</th>\n",
       "      <th>freq</th>\n",
       "      <th>mean</th>\n",
       "      <th>std</th>\n",
       "      <th>min</th>\n",
       "      <th>25%</th>\n",
       "      <th>50%</th>\n",
       "      <th>75%</th>\n",
       "      <th>max</th>\n",
       "    </tr>\n",
       "  </thead>\n",
       "  <tbody>\n",
       "    <tr>\n",
       "      <th>checking_status</th>\n",
       "      <td>1000</td>\n",
       "      <td>4</td>\n",
       "      <td>no checking</td>\n",
       "      <td>394</td>\n",
       "      <td>NaN</td>\n",
       "      <td>NaN</td>\n",
       "      <td>NaN</td>\n",
       "      <td>NaN</td>\n",
       "      <td>NaN</td>\n",
       "      <td>NaN</td>\n",
       "      <td>NaN</td>\n",
       "    </tr>\n",
       "    <tr>\n",
       "      <th>duration</th>\n",
       "      <td>1000.0</td>\n",
       "      <td>NaN</td>\n",
       "      <td>NaN</td>\n",
       "      <td>NaN</td>\n",
       "      <td>20.903</td>\n",
       "      <td>12.058814</td>\n",
       "      <td>4.0</td>\n",
       "      <td>12.0</td>\n",
       "      <td>18.0</td>\n",
       "      <td>24.0</td>\n",
       "      <td>72.0</td>\n",
       "    </tr>\n",
       "    <tr>\n",
       "      <th>credit_history</th>\n",
       "      <td>1000</td>\n",
       "      <td>5</td>\n",
       "      <td>existing paid</td>\n",
       "      <td>530</td>\n",
       "      <td>NaN</td>\n",
       "      <td>NaN</td>\n",
       "      <td>NaN</td>\n",
       "      <td>NaN</td>\n",
       "      <td>NaN</td>\n",
       "      <td>NaN</td>\n",
       "      <td>NaN</td>\n",
       "    </tr>\n",
       "    <tr>\n",
       "      <th>purpose</th>\n",
       "      <td>1000</td>\n",
       "      <td>10</td>\n",
       "      <td>radio/tv</td>\n",
       "      <td>280</td>\n",
       "      <td>NaN</td>\n",
       "      <td>NaN</td>\n",
       "      <td>NaN</td>\n",
       "      <td>NaN</td>\n",
       "      <td>NaN</td>\n",
       "      <td>NaN</td>\n",
       "      <td>NaN</td>\n",
       "    </tr>\n",
       "    <tr>\n",
       "      <th>credit_amount</th>\n",
       "      <td>1000.0</td>\n",
       "      <td>NaN</td>\n",
       "      <td>NaN</td>\n",
       "      <td>NaN</td>\n",
       "      <td>3271.258</td>\n",
       "      <td>2822.736876</td>\n",
       "      <td>250.0</td>\n",
       "      <td>1365.5</td>\n",
       "      <td>2319.5</td>\n",
       "      <td>3972.25</td>\n",
       "      <td>18424.0</td>\n",
       "    </tr>\n",
       "    <tr>\n",
       "      <th>savings_status</th>\n",
       "      <td>1000</td>\n",
       "      <td>5</td>\n",
       "      <td>&lt;100</td>\n",
       "      <td>603</td>\n",
       "      <td>NaN</td>\n",
       "      <td>NaN</td>\n",
       "      <td>NaN</td>\n",
       "      <td>NaN</td>\n",
       "      <td>NaN</td>\n",
       "      <td>NaN</td>\n",
       "      <td>NaN</td>\n",
       "    </tr>\n",
       "    <tr>\n",
       "      <th>employment</th>\n",
       "      <td>1000</td>\n",
       "      <td>5</td>\n",
       "      <td>1&lt;=X&lt;4</td>\n",
       "      <td>339</td>\n",
       "      <td>NaN</td>\n",
       "      <td>NaN</td>\n",
       "      <td>NaN</td>\n",
       "      <td>NaN</td>\n",
       "      <td>NaN</td>\n",
       "      <td>NaN</td>\n",
       "      <td>NaN</td>\n",
       "    </tr>\n",
       "    <tr>\n",
       "      <th>installment_commitment</th>\n",
       "      <td>1000.0</td>\n",
       "      <td>NaN</td>\n",
       "      <td>NaN</td>\n",
       "      <td>NaN</td>\n",
       "      <td>2.973</td>\n",
       "      <td>1.118715</td>\n",
       "      <td>1.0</td>\n",
       "      <td>2.0</td>\n",
       "      <td>3.0</td>\n",
       "      <td>4.0</td>\n",
       "      <td>4.0</td>\n",
       "    </tr>\n",
       "    <tr>\n",
       "      <th>personal_status</th>\n",
       "      <td>1000</td>\n",
       "      <td>4</td>\n",
       "      <td>male single</td>\n",
       "      <td>548</td>\n",
       "      <td>NaN</td>\n",
       "      <td>NaN</td>\n",
       "      <td>NaN</td>\n",
       "      <td>NaN</td>\n",
       "      <td>NaN</td>\n",
       "      <td>NaN</td>\n",
       "      <td>NaN</td>\n",
       "    </tr>\n",
       "    <tr>\n",
       "      <th>other_parties</th>\n",
       "      <td>1000</td>\n",
       "      <td>3</td>\n",
       "      <td>none</td>\n",
       "      <td>907</td>\n",
       "      <td>NaN</td>\n",
       "      <td>NaN</td>\n",
       "      <td>NaN</td>\n",
       "      <td>NaN</td>\n",
       "      <td>NaN</td>\n",
       "      <td>NaN</td>\n",
       "      <td>NaN</td>\n",
       "    </tr>\n",
       "    <tr>\n",
       "      <th>residence_since</th>\n",
       "      <td>1000.0</td>\n",
       "      <td>NaN</td>\n",
       "      <td>NaN</td>\n",
       "      <td>NaN</td>\n",
       "      <td>2.845</td>\n",
       "      <td>1.103718</td>\n",
       "      <td>1.0</td>\n",
       "      <td>2.0</td>\n",
       "      <td>3.0</td>\n",
       "      <td>4.0</td>\n",
       "      <td>4.0</td>\n",
       "    </tr>\n",
       "    <tr>\n",
       "      <th>property_magnitude</th>\n",
       "      <td>1000</td>\n",
       "      <td>4</td>\n",
       "      <td>car</td>\n",
       "      <td>332</td>\n",
       "      <td>NaN</td>\n",
       "      <td>NaN</td>\n",
       "      <td>NaN</td>\n",
       "      <td>NaN</td>\n",
       "      <td>NaN</td>\n",
       "      <td>NaN</td>\n",
       "      <td>NaN</td>\n",
       "    </tr>\n",
       "    <tr>\n",
       "      <th>age</th>\n",
       "      <td>1000.0</td>\n",
       "      <td>NaN</td>\n",
       "      <td>NaN</td>\n",
       "      <td>NaN</td>\n",
       "      <td>35.546</td>\n",
       "      <td>11.375469</td>\n",
       "      <td>19.0</td>\n",
       "      <td>27.0</td>\n",
       "      <td>33.0</td>\n",
       "      <td>42.0</td>\n",
       "      <td>75.0</td>\n",
       "    </tr>\n",
       "    <tr>\n",
       "      <th>other_payment_plans</th>\n",
       "      <td>1000</td>\n",
       "      <td>3</td>\n",
       "      <td>none</td>\n",
       "      <td>814</td>\n",
       "      <td>NaN</td>\n",
       "      <td>NaN</td>\n",
       "      <td>NaN</td>\n",
       "      <td>NaN</td>\n",
       "      <td>NaN</td>\n",
       "      <td>NaN</td>\n",
       "      <td>NaN</td>\n",
       "    </tr>\n",
       "    <tr>\n",
       "      <th>housing</th>\n",
       "      <td>1000</td>\n",
       "      <td>3</td>\n",
       "      <td>own</td>\n",
       "      <td>713</td>\n",
       "      <td>NaN</td>\n",
       "      <td>NaN</td>\n",
       "      <td>NaN</td>\n",
       "      <td>NaN</td>\n",
       "      <td>NaN</td>\n",
       "      <td>NaN</td>\n",
       "      <td>NaN</td>\n",
       "    </tr>\n",
       "    <tr>\n",
       "      <th>existing_credits</th>\n",
       "      <td>1000.0</td>\n",
       "      <td>NaN</td>\n",
       "      <td>NaN</td>\n",
       "      <td>NaN</td>\n",
       "      <td>1.407</td>\n",
       "      <td>0.577654</td>\n",
       "      <td>1.0</td>\n",
       "      <td>1.0</td>\n",
       "      <td>1.0</td>\n",
       "      <td>2.0</td>\n",
       "      <td>4.0</td>\n",
       "    </tr>\n",
       "    <tr>\n",
       "      <th>job</th>\n",
       "      <td>1000</td>\n",
       "      <td>4</td>\n",
       "      <td>skilled</td>\n",
       "      <td>630</td>\n",
       "      <td>NaN</td>\n",
       "      <td>NaN</td>\n",
       "      <td>NaN</td>\n",
       "      <td>NaN</td>\n",
       "      <td>NaN</td>\n",
       "      <td>NaN</td>\n",
       "      <td>NaN</td>\n",
       "    </tr>\n",
       "    <tr>\n",
       "      <th>num_dependents</th>\n",
       "      <td>1000.0</td>\n",
       "      <td>NaN</td>\n",
       "      <td>NaN</td>\n",
       "      <td>NaN</td>\n",
       "      <td>1.155</td>\n",
       "      <td>0.362086</td>\n",
       "      <td>1.0</td>\n",
       "      <td>1.0</td>\n",
       "      <td>1.0</td>\n",
       "      <td>1.0</td>\n",
       "      <td>2.0</td>\n",
       "    </tr>\n",
       "    <tr>\n",
       "      <th>own_telephone</th>\n",
       "      <td>1000</td>\n",
       "      <td>2</td>\n",
       "      <td>none</td>\n",
       "      <td>596</td>\n",
       "      <td>NaN</td>\n",
       "      <td>NaN</td>\n",
       "      <td>NaN</td>\n",
       "      <td>NaN</td>\n",
       "      <td>NaN</td>\n",
       "      <td>NaN</td>\n",
       "      <td>NaN</td>\n",
       "    </tr>\n",
       "    <tr>\n",
       "      <th>foreign_worker</th>\n",
       "      <td>1000</td>\n",
       "      <td>2</td>\n",
       "      <td>yes</td>\n",
       "      <td>963</td>\n",
       "      <td>NaN</td>\n",
       "      <td>NaN</td>\n",
       "      <td>NaN</td>\n",
       "      <td>NaN</td>\n",
       "      <td>NaN</td>\n",
       "      <td>NaN</td>\n",
       "      <td>NaN</td>\n",
       "    </tr>\n",
       "  </tbody>\n",
       "</table>\n",
       "</div>"
      ],
      "text/plain": [
       "                         count unique            top freq      mean  \\\n",
       "checking_status           1000      4    no checking  394       NaN   \n",
       "duration                1000.0    NaN            NaN  NaN    20.903   \n",
       "credit_history            1000      5  existing paid  530       NaN   \n",
       "purpose                   1000     10       radio/tv  280       NaN   \n",
       "credit_amount           1000.0    NaN            NaN  NaN  3271.258   \n",
       "savings_status            1000      5           <100  603       NaN   \n",
       "employment                1000      5         1<=X<4  339       NaN   \n",
       "installment_commitment  1000.0    NaN            NaN  NaN     2.973   \n",
       "personal_status           1000      4    male single  548       NaN   \n",
       "other_parties             1000      3           none  907       NaN   \n",
       "residence_since         1000.0    NaN            NaN  NaN     2.845   \n",
       "property_magnitude        1000      4            car  332       NaN   \n",
       "age                     1000.0    NaN            NaN  NaN    35.546   \n",
       "other_payment_plans       1000      3           none  814       NaN   \n",
       "housing                   1000      3            own  713       NaN   \n",
       "existing_credits        1000.0    NaN            NaN  NaN     1.407   \n",
       "job                       1000      4        skilled  630       NaN   \n",
       "num_dependents          1000.0    NaN            NaN  NaN     1.155   \n",
       "own_telephone             1000      2           none  596       NaN   \n",
       "foreign_worker            1000      2            yes  963       NaN   \n",
       "\n",
       "                                std    min     25%     50%      75%      max  \n",
       "checking_status                 NaN    NaN     NaN     NaN      NaN      NaN  \n",
       "duration                  12.058814    4.0    12.0    18.0     24.0     72.0  \n",
       "credit_history                  NaN    NaN     NaN     NaN      NaN      NaN  \n",
       "purpose                         NaN    NaN     NaN     NaN      NaN      NaN  \n",
       "credit_amount           2822.736876  250.0  1365.5  2319.5  3972.25  18424.0  \n",
       "savings_status                  NaN    NaN     NaN     NaN      NaN      NaN  \n",
       "employment                      NaN    NaN     NaN     NaN      NaN      NaN  \n",
       "installment_commitment     1.118715    1.0     2.0     3.0      4.0      4.0  \n",
       "personal_status                 NaN    NaN     NaN     NaN      NaN      NaN  \n",
       "other_parties                   NaN    NaN     NaN     NaN      NaN      NaN  \n",
       "residence_since            1.103718    1.0     2.0     3.0      4.0      4.0  \n",
       "property_magnitude              NaN    NaN     NaN     NaN      NaN      NaN  \n",
       "age                       11.375469   19.0    27.0    33.0     42.0     75.0  \n",
       "other_payment_plans             NaN    NaN     NaN     NaN      NaN      NaN  \n",
       "housing                         NaN    NaN     NaN     NaN      NaN      NaN  \n",
       "existing_credits           0.577654    1.0     1.0     1.0      2.0      4.0  \n",
       "job                             NaN    NaN     NaN     NaN      NaN      NaN  \n",
       "num_dependents             0.362086    1.0     1.0     1.0      1.0      2.0  \n",
       "own_telephone                   NaN    NaN     NaN     NaN      NaN      NaN  \n",
       "foreign_worker                  NaN    NaN     NaN     NaN      NaN      NaN  "
      ]
     },
     "execution_count": 5,
     "metadata": {},
     "output_type": "execute_result"
    }
   ],
   "source": [
    "\n",
    "df.describe(include=\"all\").T.head(20)"
   ]
  },
  {
   "cell_type": "code",
   "execution_count": 6,
   "id": "8fa5e37b",
   "metadata": {
    "execution": {
     "iopub.execute_input": "2025-10-01T15:19:04.439518Z",
     "iopub.status.busy": "2025-10-01T15:19:04.439425Z",
     "iopub.status.idle": "2025-10-01T15:19:04.442090Z",
     "shell.execute_reply": "2025-10-01T15:19:04.441891Z"
    }
   },
   "outputs": [
    {
     "data": {
      "application/vnd.microsoft.datawrangler.viewer.v0+json": {
       "columns": [
        {
         "name": "class",
         "rawType": "category",
         "type": "unknown"
        },
        {
         "name": "proportion",
         "rawType": "float64",
         "type": "float"
        }
       ],
       "ref": "ffdcb8d2-da4a-4255-b3ec-fe1078a8388e",
       "rows": [
        [
         "good",
         "0.7"
        ],
        [
         "bad",
         "0.3"
        ]
       ],
       "shape": {
        "columns": 1,
        "rows": 2
       }
      },
      "text/plain": [
       "class\n",
       "good    0.7\n",
       "bad     0.3\n",
       "Name: proportion, dtype: float64"
      ]
     },
     "execution_count": 6,
     "metadata": {},
     "output_type": "execute_result"
    }
   ],
   "source": [
    "\n",
    "df[target_name].value_counts(normalize=True)"
   ]
  },
  {
   "cell_type": "code",
   "execution_count": 7,
   "id": "7ee57ed5",
   "metadata": {
    "execution": {
     "iopub.execute_input": "2025-10-01T15:19:04.443255Z",
     "iopub.status.busy": "2025-10-01T15:19:04.443171Z",
     "iopub.status.idle": "2025-10-01T15:19:04.644223Z",
     "shell.execute_reply": "2025-10-01T15:19:04.643953Z"
    }
   },
   "outputs": [
    {
     "data": {
      "image/png": "[encoded data removed]",
      "text/plain": [
       "<Figure size 1200x800 with 4 Axes>"
      ]
     },
     "metadata": {},
     "output_type": "display_data"
    }
   ],
   "source": [
    "\n",
    "num_cols_preview = [c for c in df.select_dtypes(include=[\"number\"]).columns.tolist() if c != target_name][:4]\n",
    "if num_cols_preview:\n",
    "    df[num_cols_preview].hist(bins=20, figsize=(12, 8))\n",
    "    plt.tight_layout()\n",
    "    plt.show()"
   ]
  },
  {
   "cell_type": "code",
   "execution_count": null,
   "id": "b5227776",
   "metadata": {},
   "outputs": [],
   "source": [
    "plt.figure(figsize=(12, 10))\n",
    "# Převedení kategorické cílové proměnné na numerickou pro korelaci\n",
    "df_corr = df.copy()\n",
    "if df_corr[target_name].dtype == 'object' or df_corr[target_name].dtype.name == 'category':\n",
    "    df_corr[target_name] = LabelEncoder().fit_transform(df_corr[target_name])\n",
    "\n",
    "correlation_matrix = df_corr[num_cols + [target_name]].corr()\n",
    "sns.heatmap(correlation_matrix, annot=True, cmap='coolwarm', fmt=\".2f\", annot_kws={\"size\": 8})\n",
    "plt.title('Korelační matice numerických příznaků a cílové proměnné')\n",
    "plt.show()\n"
   ]
  },
  {
   "cell_type": "code",
   "execution_count": null,
   "id": "007f222d",
   "metadata": {},
   "outputs": [],
   "source": [
    "key_num_cols = ['credit_amount', 'duration', 'age', 'amount_per_month']\n",
    "\n",
    "plt.figure(figsize=(15, 10))\n",
    "for i, col in enumerate(key_num_cols):\n",
    "    if col in df.columns:\n",
    "        plt.subplot(2, 2, i + 1)\n",
    "        sns.histplot(data=df, x=col, hue=target_name, kde=True, multiple=\"stack\")\n",
    "        plt.title(f'Distribuce \"{col}\" podle třídy úvěru')\n",
    "plt.tight_layout()\n",
    "plt.show()\n"
   ]
  },
  {
   "cell_type": "markdown",
   "id": "9646d247",
   "metadata": {},
   "source": [
    "## Předzpracování dat\n",
    "Prováděné operace:\n",
    "1. Ošetření chybějících hodnot pomocí SimpleImputer (median pro numerické, most_frequent pro kategorické).\n",
    "2. Odvození nových sloupců:\n",
    "   - amount_per_month = credit_amount / duration\n",
    "   - is_senior = 1 pokud age >= 60, jinak 0\n",
    "\n",
    "Dále používáme OneHotEncoder pro kategorické proměnné a StandardScaler pro numerické. Vše je zabaleno do sklearn Pipeline/ColumnTransformer, aby nedošlo k úniku informací mezi tréninkem a testem."
   ]
  },
  {
   "cell_type": "code",
   "execution_count": 8,
   "id": "ca69b250",
   "metadata": {
    "execution": {
     "iopub.execute_input": "2025-10-01T15:19:04.645481Z",
     "iopub.status.busy": "2025-10-01T15:19:04.645403Z",
     "iopub.status.idle": "2025-10-01T15:19:04.649911Z",
     "shell.execute_reply": "2025-10-01T15:19:04.649674Z"
    }
   },
   "outputs": [
    {
     "name": "stdout",
     "output_type": "stream",
     "text": [
      "Detected categorical columns (13): ['checking_status', 'credit_history', 'purpose', 'savings_status', 'employment', 'personal_status', 'other_parties', 'property_magnitude', 'other_payment_plans', 'housing'] ...\n",
      "Detected numeric columns (9): ['duration', 'credit_amount', 'installment_commitment', 'residence_since', 'age', 'existing_credits', 'num_dependents', 'amount_per_month', 'is_senior'] \n"
     ]
    }
   ],
   "source": [
    "\n",
    "# Tvorba příznaků (odvození nových sloupců)\n",
    "X = df.drop(columns=[target_name]).copy()\n",
    "y = df[target_name].copy()\n",
    "\n",
    "# Bezpečné vytvoření odvozených příznaků pouze pokud existují zdrojové sloupce\n",
    "if {\"credit_amount\", \"duration\"}.issubset(set(X.columns)):\n",
    "    X[\"amount_per_month\"] = X[\"credit_amount\"] / (X[\"duration\"].replace({0: np.nan}))\n",
    "    # Pokud je hodnota 0, použijeme credit_amount, abychom předešli inf/NaN\n",
    "    X[\"amount_per_month\"].fillna(X.get(\"credit_amount\", 0), inplace=True)\n",
    "\n",
    "if \"age\" in X.columns:\n",
    "    X[\"is_senior\"] = (X[\"age\"] >= 60).astype(int)\n",
    "else:\n",
    "    X[\"is_senior\"] = 0  # výchozí hodnota pokud sloupec chybí\n",
    "\n",
    "# Identifikace typů sloupců\n",
    "cat_cols = X.select_dtypes(include=[\"object\", \"category\", \"bool\"]).columns.tolist()\n",
    "num_cols = X.select_dtypes(include=[\"number\"]).columns.tolist()\n",
    "\n",
    "print(f\"Detected categorical columns ({len(cat_cols)}):\", cat_cols[:10], \"...\" if len(cat_cols) > 10 else \"\")\n",
    "print(f\"Detected numeric columns ({len(num_cols)}):\", num_cols[:10], \"...\" if len(num_cols) > 10 else \"\")"
   ]
  },
  {
   "cell_type": "code",
   "execution_count": 9,
   "id": "373bc929",
   "metadata": {
    "execution": {
     "iopub.execute_input": "2025-10-01T15:19:04.651051Z",
     "iopub.status.busy": "2025-10-01T15:19:04.650974Z",
     "iopub.status.idle": "2025-10-01T15:19:04.656212Z",
     "shell.execute_reply": "2025-10-01T15:19:04.655953Z"
    }
   },
   "outputs": [
    {
     "data": {
      "text/plain": [
       "((800, 22), (200, 22))"
      ]
     },
     "execution_count": 9,
     "metadata": {},
     "output_type": "execute_result"
    }
   ],
   "source": [
    "\n",
    "# Definice předzpracování: imputace + škálování (numerické), imputace + one-hot (kategorické)\n",
    "numeric_transformer = Pipeline(steps=[\n",
    "    (\"imputer\", SimpleImputer(strategy=\"median\")),\n",
    "    (\"scaler\", StandardScaler())\n",
    "])\n",
    "\n",
    "categorical_transformer = Pipeline(steps=[\n",
    "    (\"imputer\", SimpleImputer(strategy=\"most_frequent\")),\n",
    "    (\"onehot\", OneHotEncoder(handle_unknown=\"ignore\"))\n",
    "])\n",
    "\n",
    "preprocessor = ColumnTransformer(\n",
    "    transformers=[\n",
    "        (\"num\", numeric_transformer, num_cols),\n",
    "        (\"cat\", categorical_transformer, cat_cols)\n",
    "    ],\n",
    "    remainder=\"drop\"\n",
    ")\n",
    "\n",
    "# Rozdělení na trénink/test (hold-out, bez úniku informací)\n",
    "X_train, X_test, y_train, y_test = train_test_split(\n",
    "    X, y, test_size=0.2, random_state=SEED, stratify=y\n",
    ")\n",
    "X_train.shape, X_test.shape"
   ]
  },
  {
   "cell_type": "markdown",
   "id": "6f8944a8",
   "metadata": {},
   "source": [
    "## Modelování a ladění hyperparametrů\n",
    "Porovnáváme:\n",
    "- Logistic Regression\n",
    "- Random Forest\n",
    "\n",
    "Ladění pomocí `GridSearchCV` (scoring='roc_auc', 5-fold Stratified CV) pouze na trénovací sadě, poté vyhodnocení na testovací sadě."
   ]
  },
  {
   "cell_type": "code",
   "execution_count": 10,
   "id": "a81f9516",
   "metadata": {
    "execution": {
     "iopub.execute_input": "2025-10-01T15:19:04.657446Z",
     "iopub.status.busy": "2025-10-01T15:19:04.657361Z",
     "iopub.status.idle": "2025-10-01T15:19:20.061668Z",
     "shell.execute_reply": "2025-10-01T15:19:20.061286Z"
    }
   },
   "outputs": [
    {
     "name": "stdout",
     "output_type": "stream",
     "text": [
      "Best LR params: {'model__C': 0.1} CV AUC: 0.7830729166666666\n",
      "Best RF params: {'model__max_depth': 10, 'model__n_estimators': 1000} CV AUC: 0.8010044642857143\n"
     ]
    }
   ],
   "source": [
    "\n",
    "cv = StratifiedKFold(n_splits=5, shuffle=True, random_state=SEED)\n",
    "\n",
    "# Pipeline\n",
    "pipe_lr = ImbPipeline(steps=[\n",
    "    (\"preprocess\", preprocessor),\n",
    "    (\"smote\", SMOTE(random_state=SEED)),\n",
    "    (\"model\", LogisticRegression(max_iter=1000, solver=\"lbfgs\", class_weight=\"balanced\"))\n",
    "])\n",
    "\n",
    "pipe_rf = ImbPipeline(steps=[\n",
    "    (\"preprocess\", preprocessor),\n",
    "    (\"smote\", SMOTE(random_state=SEED)),\n",
    "    (\"model\", RandomForestClassifier(random_state=SEED, n_jobs=-1))\n",
    "])\n",
    "\n",
    "# Rozšířená mřížka hyperparametrů\n",
    "param_grid_lr = {\n",
    "    \"model__C\": [0.1, 1.0, 10.0],\n",
    "}\n",
    "param_grid_rf = {\n",
    "    \"model__n_estimators\": [500, 1000, 2000],\n",
    "    \"model__max_depth\": [None, 10, 20],\n",
    "}\n",
    "\n",
    "grid_lr = GridSearchCV(\n",
    "    pipe_lr, param_grid_lr, scoring=\"roc_auc\", cv=cv, n_jobs=-1, refit=True\n",
    ")\n",
    "grid_rf = GridSearchCV(\n",
    "    pipe_rf, param_grid_rf, scoring=\"roc_auc\", cv=cv, n_jobs=-1, refit=True\n",
    ")\n",
    "\n",
    "grid_lr.fit(X_train, y_train)\n",
    "grid_rf.fit(X_train, y_train)\n",
    "\n",
    "print(\"Best LR params:\", grid_lr.best_params_, \"CV AUC:\", grid_lr.best_score_)\n",
    "print(\"Best RF params:\", grid_rf.best_params_, \"CV AUC:\", grid_rf.best_score_)"
   ]
  },
  {
   "cell_type": "markdown",
   "id": "bc818115",
   "metadata": {},
   "source": [
    "## Vyhodnocení na testovací sadě"
   ]
  },
  {
   "cell_type": "code",
   "execution_count": 16,
   "id": "50b8cc96",
   "metadata": {
    "execution": {
     "iopub.execute_input": "2025-10-01T15:19:20.066838Z",
     "iopub.status.busy": "2025-10-01T15:19:20.066698Z",
     "iopub.status.idle": "2025-10-01T15:19:20.206748Z",
     "shell.execute_reply": "2025-10-01T15:19:20.206476Z"
    }
   },
   "outputs": [
    {
     "name": "stdout",
     "output_type": "stream",
     "text": [
      "Logistic Regression - Test Accuracy: 0.7000, Test ROC AUC: 0.7635\n",
      "Confusion matrix:\n",
      " [[43 17]\n",
      " [43 97]]\n",
      "Classification report:\n",
      "               precision    recall  f1-score   support\n",
      "\n",
      "         bad       0.50      0.72      0.59        60\n",
      "        good       0.85      0.69      0.76       140\n",
      "\n",
      "    accuracy                           0.70       200\n",
      "   macro avg       0.68      0.70      0.68       200\n",
      "weighted avg       0.75      0.70      0.71       200\n",
      "\n",
      "Random Forest - Test Accuracy: 0.7400, Test ROC AUC: 0.7888\n",
      "Confusion matrix:\n",
      " [[ 32  28]\n",
      " [ 24 116]]\n",
      "Classification report:\n",
      "               precision    recall  f1-score   support\n",
      "\n",
      "         bad       0.57      0.53      0.55        60\n",
      "        good       0.81      0.83      0.82       140\n",
      "\n",
      "    accuracy                           0.74       200\n",
      "   macro avg       0.69      0.68      0.68       200\n",
      "weighted avg       0.74      0.74      0.74       200\n",
      "\n"
     ]
    }
   ],
   "source": [
    "\n",
    "best_lr = grid_lr.best_estimator_\n",
    "best_rf = grid_rf.best_estimator_\n",
    "\n",
    "def evaluate_model(name, model, X_test, y_test):\n",
    "    y_pred = model.predict(X_test)\n",
    "    acc = accuracy_score(y_test, y_pred)\n",
    "    auc = None\n",
    "    if hasattr(model, \"predict_proba\"):\n",
    "        y_proba = model.predict_proba(X_test)[:, 1]\n",
    "        auc = roc_auc_score(y_test, y_proba)\n",
    "    print(f\"{name} - Test Accuracy: {acc:.4f}\" + (f\", Test ROC AUC: {auc:.4f}\" if auc is not None else \"\"))\n",
    "    print(\"Confusion matrix:\\n\", confusion_matrix(y_test, y_pred))\n",
    "    print(\"Classification report:\\n\", classification_report(y_test, y_pred))\n",
    "\n",
    "evaluate_model(\"Logistic Regression\", best_lr, X_test, y_test)\n",
    "evaluate_model(\"Random Forest\", best_rf, X_test, y_test)"
   ]
  },
  {
   "cell_type": "code",
   "execution_count": 17,
   "id": "9c075cd5",
   "metadata": {},
   "outputs": [
    {
     "name": "stdout",
     "output_type": "stream",
     "text": [
      "Baseline (most_frequent) - Test Accuracy: 0.7000, Test ROC AUC: 0.5000\n",
      "Confusion matrix:\n",
      " [[  0  60]\n",
      " [  0 140]]\n",
      "Classification report:\n",
      "               precision    recall  f1-score   support\n",
      "\n",
      "         bad       0.00      0.00      0.00        60\n",
      "        good       0.70      1.00      0.82       140\n",
      "\n",
      "    accuracy                           0.70       200\n",
      "   macro avg       0.35      0.50      0.41       200\n",
      "weighted avg       0.49      0.70      0.58       200\n",
      "\n"
     ]
    }
   ],
   "source": [
    "\n",
    "baseline = DummyClassifier(strategy=\"most_frequent\", random_state=SEED)\n",
    "baseline.fit(X_train, y_train)\n",
    "\n",
    "# Textové vyhodnocení (accuracy, AUC, report, matice záměn)\n",
    "evaluate_model(\"Baseline (most_frequent)\", baseline, X_test, y_test)"
   ]
  },
  {
   "cell_type": "code",
   "execution_count": 18,
   "id": "94b213c2",
   "metadata": {},
   "outputs": [
    {
     "data": {
      "image/png": "[encoded data removed]",
      "text/plain": [
       "<Figure size 1500x400 with 3 Axes>"
      ]
     },
     "metadata": {},
     "output_type": "display_data"
    },
    {
     "data": {
      "image/png": "[encoded data removed]",
      "text/plain": [
       "<Figure size 1500x400 with 3 Axes>"
      ]
     },
     "metadata": {},
     "output_type": "display_data"
    }
   ],
   "source": [
    "\n",
    "\n",
    "def plot_confusion_matrices(models, X_test, y_test, normalize=None):\n",
    "    n = len(models)\n",
    "    fig, axes = plt.subplots(1, n, figsize=(5 * n, 4))\n",
    "    if n == 1:\n",
    "        axes = [axes]\n",
    "    for ax, (name, est) in zip(axes, models):\n",
    "        ConfusionMatrixDisplay.from_estimator(\n",
    "            est, X_test, y_test,\n",
    "            normalize=normalize,  # None | 'true' | 'pred' | 'all'\n",
    "            cmap=\"Blues\", ax=ax, colorbar=False\n",
    "        )\n",
    "        ax.set_title(name)\n",
    "    fig.suptitle(f\"Confusion matrices (normalize={normalize})\")\n",
    "    plt.tight_layout()\n",
    "    plt.show()\n",
    "\n",
    "models_to_plot = [\n",
    "    (\"Baseline\", baseline),\n",
    "    (\"LogReg (best)\", best_lr),\n",
    "    (\"RandomForest (best)\", best_rf),\n",
    "]\n",
    "\n",
    "# Ne-normalizovaná a normalizovaná verze\n",
    "plot_confusion_matrices(models_to_plot, X_test, y_test, normalize=None)\n",
    "plot_confusion_matrices(models_to_plot, X_test, y_test, normalize=\"true\")"
   ]
  },
  {
   "cell_type": "code",
   "execution_count": 19,
   "id": "d96a3c75",
   "metadata": {
    "execution": {
     "iopub.execute_input": "2025-10-01T15:19:20.208019Z",
     "iopub.status.busy": "2025-10-01T15:19:20.207942Z",
     "iopub.status.idle": "2025-10-01T15:19:20.358632Z",
     "shell.execute_reply": "2025-10-01T15:19:20.358388Z"
    }
   },
   "outputs": [
    {
     "data": {
      "text/plain": [
       "<Figure size 700x500 with 0 Axes>"
      ]
     },
     "metadata": {},
     "output_type": "display_data"
    },
    {
     "data": {
      "image/png": "[encoded data removed]",
      "text/plain": [
       "<Figure size 640x480 with 1 Axes>"
      ]
     },
     "metadata": {},
     "output_type": "display_data"
    },
    {
     "data": {
      "image/png": "[encoded data removed]",
      "text/plain": [
       "<Figure size 640x480 with 1 Axes>"
      ]
     },
     "metadata": {},
     "output_type": "display_data"
    }
   ],
   "source": [
    "\n",
    "# Vykreslení ROC křivek (binární klasifikace)\n",
    "plt.figure(figsize=(7, 5))\n",
    "if hasattr(best_lr, \"predict_proba\"):\n",
    "    RocCurveDisplay.from_estimator(best_lr, X_test, y_test, name=\"LogReg (best)\")\n",
    "if hasattr(best_rf, \"predict_proba\"):\n",
    "    RocCurveDisplay.from_estimator(best_rf, X_test, y_test, name=\"RandomForest (best)\")\n",
    "plt.plot([0,1], [0,1], \"k--\", alpha=0.5)\n",
    "plt.title(\"ROC Curves on Test Set\")\n",
    "plt.tight_layout()\n",
    "plt.show()"
   ]
  },
  {
   "cell_type": "markdown",
   "id": "8ce379f7",
   "metadata": {},
   "source": [
    "# Porovnání a interpretace modelů"
   ]
  },
  {
   "cell_type": "code",
   "execution_count": 20,
   "id": "e8e9003d",
   "metadata": {},
   "outputs": [
    {
     "data": {
      "text/html": [
       "<style type=\"text/css\">\n",
       "</style>\n",
       "<table id=\"T_d4f77\">\n",
       "  <caption>Porovnání modelů na testu</caption>\n",
       "  <thead>\n",
       "    <tr>\n",
       "      <th class=\"blank level0\" >&nbsp;</th>\n",
       "      <th id=\"T_d4f77_level0_col0\" class=\"col_heading level0 col0\" >model</th>\n",
       "      <th id=\"T_d4f77_level0_col1\" class=\"col_heading level0 col1\" >accuracy</th>\n",
       "      <th id=\"T_d4f77_level0_col2\" class=\"col_heading level0 col2\" >precision_w</th>\n",
       "      <th id=\"T_d4f77_level0_col3\" class=\"col_heading level0 col3\" >recall_w</th>\n",
       "      <th id=\"T_d4f77_level0_col4\" class=\"col_heading level0 col4\" >f1_w</th>\n",
       "      <th id=\"T_d4f77_level0_col5\" class=\"col_heading level0 col5\" >roc_auc</th>\n",
       "    </tr>\n",
       "  </thead>\n",
       "  <tbody>\n",
       "    <tr>\n",
       "      <th id=\"T_d4f77_level0_row0\" class=\"row_heading level0 row0\" >2</th>\n",
       "      <td id=\"T_d4f77_row0_col0\" class=\"data row0 col0\" >RandomForest (best)</td>\n",
       "      <td id=\"T_d4f77_row0_col1\" class=\"data row0 col1\" >0.7400</td>\n",
       "      <td id=\"T_d4f77_row0_col2\" class=\"data row0 col2\" >0.7353</td>\n",
       "      <td id=\"T_d4f77_row0_col3\" class=\"data row0 col3\" >0.7400</td>\n",
       "      <td id=\"T_d4f77_row0_col4\" class=\"data row0 col4\" >0.7373</td>\n",
       "      <td id=\"T_d4f77_row0_col5\" class=\"data row0 col5\" >0.7888</td>\n",
       "    </tr>\n",
       "    <tr>\n",
       "      <th id=\"T_d4f77_level0_row1\" class=\"row_heading level0 row1\" >1</th>\n",
       "      <td id=\"T_d4f77_row1_col0\" class=\"data row1 col0\" >LogReg (best)</td>\n",
       "      <td id=\"T_d4f77_row1_col1\" class=\"data row1 col1\" >0.7000</td>\n",
       "      <td id=\"T_d4f77_row1_col2\" class=\"data row1 col2\" >0.7456</td>\n",
       "      <td id=\"T_d4f77_row1_col3\" class=\"data row1 col3\" >0.7000</td>\n",
       "      <td id=\"T_d4f77_row1_col4\" class=\"data row1 col4\" >0.7114</td>\n",
       "      <td id=\"T_d4f77_row1_col5\" class=\"data row1 col5\" >0.7635</td>\n",
       "    </tr>\n",
       "    <tr>\n",
       "      <th id=\"T_d4f77_level0_row2\" class=\"row_heading level0 row2\" >0</th>\n",
       "      <td id=\"T_d4f77_row2_col0\" class=\"data row2 col0\" >Baseline</td>\n",
       "      <td id=\"T_d4f77_row2_col1\" class=\"data row2 col1\" >0.7000</td>\n",
       "      <td id=\"T_d4f77_row2_col2\" class=\"data row2 col2\" >0.4900</td>\n",
       "      <td id=\"T_d4f77_row2_col3\" class=\"data row2 col3\" >0.7000</td>\n",
       "      <td id=\"T_d4f77_row2_col4\" class=\"data row2 col4\" >0.5765</td>\n",
       "      <td id=\"T_d4f77_row2_col5\" class=\"data row2 col5\" >0.5000</td>\n",
       "    </tr>\n",
       "  </tbody>\n",
       "</table>\n"
      ],
      "text/plain": [
       "<pandas.io.formats.style.Styler at 0x11f71c090>"
      ]
     },
     "metadata": {},
     "output_type": "display_data"
    }
   ],
   "source": [
    "def summarize_models(models, X_test, y_test):\n",
    "    rows = []\n",
    "    for name, est in models:\n",
    "        y_pred = est.predict(X_test)\n",
    "        acc = accuracy_score(y_test, y_pred)\n",
    "        prec, rec, f1, _ = precision_recall_fscore_support(\n",
    "            y_test, y_pred, average=\"weighted\", zero_division=0\n",
    "        )\n",
    "        auc = np.nan\n",
    "        if hasattr(est, \"predict_proba\"):\n",
    "            try:\n",
    "                auc = roc_auc_score(y_test, est.predict_proba(X_test)[:, 1])\n",
    "            except Exception:\n",
    "                auc = np.nan\n",
    "        rows.append({\n",
    "            \"model\": name,\n",
    "            \"accuracy\": acc,\n",
    "            \"precision_w\": prec,\n",
    "            \"recall_w\": rec,\n",
    "            \"f1_w\": f1,\n",
    "            \"roc_auc\": auc,\n",
    "        })\n",
    "    return pd.DataFrame(rows)\n",
    "\n",
    "summary_df = summarize_models(models_to_plot, X_test, y_test)\n",
    "summary_df = summary_df.sort_values(\n",
    "    by=[\"roc_auc\", \"f1_w\", \"accuracy\"], ascending=False\n",
    ")\n",
    "\n",
    "# Hezčí výpis s formátováním\n",
    "display(\n",
    "    summary_df.style.format({\n",
    "        \"accuracy\": \"{:.4f}\",\n",
    "        \"precision_w\": \"{:.4f}\",\n",
    "        \"recall_w\": \"{:.4f}\",\n",
    "        \"f1_w\": \"{:.4f}\",\n",
    "        \"roc_auc\": \"{:.4f}\",\n",
    "    }).set_caption(\"Porovnání modelů na testu\")\n",
    ")"
   ]
  },
  {
   "cell_type": "code",
   "execution_count": 21,
   "id": "ca11ea2e",
   "metadata": {},
   "outputs": [
    {
     "data": {
      "image/png": "[encoded data removed]",
      "text/plain": [
       "<Figure size 1000x800 with 1 Axes>"
      ]
     },
     "metadata": {},
     "output_type": "display_data"
    }
   ],
   "source": [
    "try:\n",
    "    cat_feature_names = best_rf.named_steps['preprocess'].named_transformers_['cat'].named_steps['onehot'].get_feature_names_out(cat_cols)\n",
    "    all_feature_names = np.concatenate([num_cols, cat_feature_names])\n",
    "\n",
    "    # Získání důležitosti z nejlepšího RF modelu\n",
    "    importances = best_rf.named_steps['model'].feature_importances_\n",
    "    feature_importance_df = pd.DataFrame({'feature': all_feature_names, 'importance': importances})\n",
    "    feature_importance_df = feature_importance_df.sort_values(by='importance', ascending=False)\n",
    "\n",
    "    # Vizualizace top 20 nejdůležitějších příznaků\n",
    "    plt.figure(figsize=(10, 8))\n",
    "    sns.barplot(x='importance', y='feature', data=feature_importance_df.head(20), palette='viridis')\n",
    "    plt.title('Top 20 nejdůležitějších příznaků (Random Forest)')\n",
    "    plt.xlabel('Důležitost')\n",
    "    plt.ylabel('Příznak')\n",
    "    plt.tight_layout()\n",
    "    plt.show()\n",
    "\n",
    "except Exception as e:\n",
    "    print(f\"Nepodařilo se vizualizovat důležitost příznaků: {e}\")\n",
    "\n"
   ]
  },
  {
   "cell_type": "markdown",
   "id": "8741022a",
   "metadata": {},
   "source": [
    "# Výsledky a závěry"
   ]
  },
  {
   "cell_type": "markdown",
   "id": "6701c46a",
   "metadata": {},
   "source": [
    "Analýza ukázala, že pro predikci úvěrového rizika na datech German Credit je nejúspěšnějším modelem **Random Forest**, který na testovací sadě dosáhl **ROC AUC přibližně 0.78** a vážené F1-skóre **0.74**. Tím výrazně překonal jak základní baseline model (`DummyClassifier`), tak i optimalizovanou `LogisticRegression`.\n",
    "\n",
    "**Klíčová zjištění:**\n",
    "- **Výkon modelů:** Random Forest prokázal nejlepší schopnost generalizace na neviděných datech. Logistická regrese byla slabší, což naznačuje, že vztahy v datech nejsou čistě lineární.\n",
    "- **Důležitost příznaků:** Z analýzy `feature_importances_` modelu Random Forest vyplynulo, že největší predikční sílu mají příznaky jako `checking_status`, `duration`, `credit_amount` a `purpose`. To dává smysl – stav běžného účtu, délka a výše úvěru jsou logicky klíčové faktory pro banku.\n",
    "- **Předzpracování:** Použití `SMOTE` pro vyrovnání tříd v trénovacích datech a škálování numerických příznaků bylo klíčové pro stabilní výkon modelů.\n",
    "- **Feature Engineering:** Vytvoření příznaků `amount_per_month` a `is_senior` mělo mírný, ale pozitivní vliv.\n",
    "\n",
    "**Doporučení a další kroky:**\n",
    "Model Random Forest je solidním základem pro praktické nasazení. Pro další zlepšení by bylo možné experimentovat s pokročilejšími modely (např. Gradient Boosting - `XGBoost`, `LightGBM`) nebo zkusit sofistikovanější techniky feature engineeringu. Dále by bylo přínosné analyzovat chybovost modelu – na jakých klientech model nejčastěji chybuje?\n",
    "\n",
    "Celý proces byl navržen s důrazem na **replikovatelnost** (pevný `random_state`, `Pipeline`) a zamezení úniku dat (`train_test_split` před jakýmkoliv fittováním).\n"
   ]
  }
 ],
 "metadata": {
  "kernelspec": {
   "display_name": ".venv",
   "language": "python",
   "name": "python3"
  },
  "language_info": {
   "codemirror_mode": {
    "name": "ipython",
    "version": 3
   },
   "file_extension": ".py",
   "mimetype": "text/x-python",
   "name": "python",
   "nbconvert_exporter": "python",
   "pygments_lexer": "ipython3",
   "version": "3.11.11"
  }
 },
 "nbformat": 4,
 "nbformat_minor": 5
}
